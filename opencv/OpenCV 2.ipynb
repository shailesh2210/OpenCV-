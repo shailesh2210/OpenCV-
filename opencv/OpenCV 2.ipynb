{
 "cells": [
  {
   "cell_type": "code",
   "execution_count": 1,
   "id": "eceddcf3",
   "metadata": {},
   "outputs": [],
   "source": [
    "import cv2"
   ]
  },
  {
   "cell_type": "code",
   "execution_count": 2,
   "id": "f6242132",
   "metadata": {},
   "outputs": [],
   "source": [
    "img = cv2.imread(\"download.png\")"
   ]
  },
  {
   "cell_type": "code",
   "execution_count": 3,
   "id": "caae8050",
   "metadata": {},
   "outputs": [],
   "source": [
    "# color to grey image\n",
    "grayImg = cv2.cvtColor(img,cv2.COLOR_BGR2GRAY)"
   ]
  },
  {
   "cell_type": "code",
   "execution_count": 4,
   "id": "cc2da3be",
   "metadata": {},
   "outputs": [
    {
     "data": {
      "text/plain": [
       "True"
      ]
     },
     "execution_count": 4,
     "metadata": {},
     "output_type": "execute_result"
    }
   ],
   "source": [
    "# save the image\n",
    "cv2.imwrite(\"Grey_img.png\", grayImg)"
   ]
  },
  {
   "cell_type": "code",
   "execution_count": 5,
   "id": "74d6d440",
   "metadata": {},
   "outputs": [],
   "source": [
    "cv2.imshow(\"og\", img)\n",
    "cv2.imshow(\"grey\", grayImg)"
   ]
  },
  {
   "cell_type": "code",
   "execution_count": null,
   "id": "aab8ed6c",
   "metadata": {},
   "outputs": [],
   "source": [
    "cv2.waitKey(0)"
   ]
  },
  {
   "cell_type": "code",
   "execution_count": null,
   "id": "ab9c5c35",
   "metadata": {},
   "outputs": [],
   "source": []
  },
  {
   "cell_type": "code",
   "execution_count": null,
   "id": "2cc79242",
   "metadata": {},
   "outputs": [],
   "source": []
  }
 ],
 "metadata": {
  "kernelspec": {
   "display_name": "Python 3 (ipykernel)",
   "language": "python",
   "name": "python3"
  },
  "language_info": {
   "codemirror_mode": {
    "name": "ipython",
    "version": 3
   },
   "file_extension": ".py",
   "mimetype": "text/x-python",
   "name": "python",
   "nbconvert_exporter": "python",
   "pygments_lexer": "ipython3",
   "version": "3.10.2"
  }
 },
 "nbformat": 4,
 "nbformat_minor": 5
}
