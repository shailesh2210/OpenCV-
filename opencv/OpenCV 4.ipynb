{
 "cells": [
  {
   "cell_type": "code",
   "execution_count": 1,
   "id": "1a15c0f9",
   "metadata": {},
   "outputs": [],
   "source": [
    "import cv2\n",
    "img = cv2.imread(\"download.png\")"
   ]
  },
  {
   "cell_type": "code",
   "execution_count": 4,
   "id": "1a289351",
   "metadata": {},
   "outputs": [],
   "source": [
    "gaussianblur = cv2.GaussianBlur(img , (21, 21), 6)"
   ]
  },
  {
   "cell_type": "code",
   "execution_count": 5,
   "id": "f2d6ff92",
   "metadata": {},
   "outputs": [
    {
     "data": {
      "text/plain": [
       "True"
      ]
     },
     "execution_count": 5,
     "metadata": {},
     "output_type": "execute_result"
    }
   ],
   "source": [
    "cv2.imwrite(\"Sampleblur.jpg\", gaussianblur)"
   ]
  },
  {
   "cell_type": "code",
   "execution_count": null,
   "id": "dbd72397",
   "metadata": {},
   "outputs": [],
   "source": []
  }
 ],
 "metadata": {
  "kernelspec": {
   "display_name": "Python 3 (ipykernel)",
   "language": "python",
   "name": "python3"
  },
  "language_info": {
   "codemirror_mode": {
    "name": "ipython",
    "version": 3
   },
   "file_extension": ".py",
   "mimetype": "text/x-python",
   "name": "python",
   "nbconvert_exporter": "python",
   "pygments_lexer": "ipython3",
   "version": "3.10.2"
  }
 },
 "nbformat": 4,
 "nbformat_minor": 5
}
