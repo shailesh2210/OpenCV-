{
 "cells": [
  {
   "cell_type": "code",
   "execution_count": 1,
   "id": "dc7f3fe0",
   "metadata": {},
   "outputs": [],
   "source": [
    "# import necessary libaries\n",
    "import cv2"
   ]
  },
  {
   "cell_type": "code",
   "execution_count": 2,
   "id": "2525ca9c",
   "metadata": {},
   "outputs": [],
   "source": [
    "# read the image\n",
    "img = cv2.imread(\"download.png\")"
   ]
  },
  {
   "cell_type": "code",
   "execution_count": 3,
   "id": "64bcad74",
   "metadata": {},
   "outputs": [
    {
     "data": {
      "text/plain": [
       "True"
      ]
     },
     "execution_count": 3,
     "metadata": {},
     "output_type": "execute_result"
    }
   ],
   "source": [
    "# save an image\n",
    "cv2.imwrite(\"python1.jpg\", img)"
   ]
  },
  {
   "cell_type": "code",
   "execution_count": 4,
   "id": "9bed8dfa",
   "metadata": {},
   "outputs": [],
   "source": [
    "# to display the image\n",
    "cv2.imshow(\"AI_Python.jpg\", img)"
   ]
  },
  {
   "cell_type": "code",
   "execution_count": null,
   "id": "67a3308d",
   "metadata": {},
   "outputs": [],
   "source": [
    "cv2.waitKey(0)"
   ]
  },
  {
   "cell_type": "code",
   "execution_count": null,
   "id": "17627476",
   "metadata": {},
   "outputs": [],
   "source": [
    "cv2.destroyAllWindows()"
   ]
  },
  {
   "cell_type": "code",
   "execution_count": null,
   "id": "c2b390d3",
   "metadata": {},
   "outputs": [],
   "source": []
  }
 ],
 "metadata": {
  "kernelspec": {
   "display_name": "Python 3 (ipykernel)",
   "language": "python",
   "name": "python3"
  },
  "language_info": {
   "codemirror_mode": {
    "name": "ipython",
    "version": 3
   },
   "file_extension": ".py",
   "mimetype": "text/x-python",
   "name": "python",
   "nbconvert_exporter": "python",
   "pygments_lexer": "ipython3",
   "version": "3.10.2"
  }
 },
 "nbformat": 4,
 "nbformat_minor": 5
}
