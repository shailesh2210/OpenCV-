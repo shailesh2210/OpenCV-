{
 "cells": [
  {
   "cell_type": "code",
   "execution_count": 1,
   "id": "b4f2a1f3",
   "metadata": {},
   "outputs": [],
   "source": [
    "import cv2"
   ]
  },
  {
   "cell_type": "code",
   "execution_count": 3,
   "id": "d6b59003",
   "metadata": {},
   "outputs": [
    {
     "name": "stdout",
     "output_type": "stream",
     "text": [
      "Collecting imutils\n",
      "  Downloading imutils-0.5.4.tar.gz (17 kB)\n",
      "  Preparing metadata (setup.py): started\n",
      "  Preparing metadata (setup.py): finished with status 'done'\n",
      "Using legacy 'setup.py install' for imutils, since package 'wheel' is not installed.\n",
      "Installing collected packages: imutils\n",
      "  Running setup.py install for imutils: started\n",
      "  Running setup.py install for imutils: finished with status 'done'\n",
      "Successfully installed imutils-0.5.4\n",
      "Note: you may need to restart the kernel to use updated packages.\n"
     ]
    },
    {
     "name": "stderr",
     "output_type": "stream",
     "text": [
      "\n",
      "[notice] A new release of pip available: 22.2.1 -> 22.2.2\n",
      "[notice] To update, run: python.exe -m pip install --upgrade pip\n"
     ]
    }
   ],
   "source": [
    "pip install imutils"
   ]
  },
  {
   "cell_type": "code",
   "execution_count": 6,
   "id": "891cfd53",
   "metadata": {},
   "outputs": [],
   "source": [
    "import imutils"
   ]
  },
  {
   "cell_type": "code",
   "execution_count": 7,
   "id": "f254b6a9",
   "metadata": {},
   "outputs": [],
   "source": [
    "img = cv2.imread(\"download.png\")"
   ]
  },
  {
   "cell_type": "code",
   "execution_count": 8,
   "id": "f5800edd",
   "metadata": {},
   "outputs": [],
   "source": [
    "resize = imutils.resize(img , width=50)"
   ]
  },
  {
   "cell_type": "code",
   "execution_count": null,
   "id": "61b69e1b",
   "metadata": {},
   "outputs": [],
   "source": [
    "cv2.write(\"\")"
   ]
  }
 ],
 "metadata": {
  "kernelspec": {
   "display_name": "Python 3 (ipykernel)",
   "language": "python",
   "name": "python3"
  },
  "language_info": {
   "codemirror_mode": {
    "name": "ipython",
    "version": 3
   },
   "file_extension": ".py",
   "mimetype": "text/x-python",
   "name": "python",
   "nbconvert_exporter": "python",
   "pygments_lexer": "ipython3",
   "version": "3.10.2"
  }
 },
 "nbformat": 4,
 "nbformat_minor": 5
}
